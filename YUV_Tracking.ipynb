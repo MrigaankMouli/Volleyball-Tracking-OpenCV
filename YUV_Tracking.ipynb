{
 "cells": [
  {
   "cell_type": "code",
   "execution_count": 7,
   "id": "a7d6ad9e-f1be-4493-9327-82a369f3020d",
   "metadata": {},
   "outputs": [
    {
     "ename": "TypeError",
     "evalue": "nothing() takes 0 positional arguments but 1 was given",
     "output_type": "error",
     "traceback": [
      "\u001b[0;31m---------------------------------------------------------------------------\u001b[0m",
      "\u001b[0;31mTypeError\u001b[0m                                 Traceback (most recent call last)",
      "\u001b[0;31mTypeError\u001b[0m: nothing() takes 0 positional arguments but 1 was given"
     ]
    },
    {
     "ename": "TypeError",
     "evalue": "nothing() takes 0 positional arguments but 1 was given",
     "output_type": "error",
     "traceback": [
      "\u001b[0;31m---------------------------------------------------------------------------\u001b[0m",
      "\u001b[0;31mTypeError\u001b[0m                                 Traceback (most recent call last)",
      "\u001b[0;31mTypeError\u001b[0m: nothing() takes 0 positional arguments but 1 was given"
     ]
    },
    {
     "ename": "TypeError",
     "evalue": "nothing() takes 0 positional arguments but 1 was given",
     "output_type": "error",
     "traceback": [
      "\u001b[0;31m---------------------------------------------------------------------------\u001b[0m",
      "\u001b[0;31mTypeError\u001b[0m                                 Traceback (most recent call last)",
      "\u001b[0;31mTypeError\u001b[0m: nothing() takes 0 positional arguments but 1 was given"
     ]
    }
   ],
   "source": [
    "import cv2 as cv2\n",
    "import numpy as np\n",
    "\n",
    "#cap = cv2.VideoCapture(\"volleyball_match.mp4\")\n",
    "\n",
    "\n",
    "def nothing():\t\n",
    "\tpass\n",
    "\n",
    "cv2.namedWindow(\"Tracking\")\n",
    "cv2.createTrackbar(\"LY\", \"Tracking\", 0, 255, nothing)\n",
    "cv2.createTrackbar(\"LU\", \"Tracking\", 0, 255, nothing)\n",
    "cv2.createTrackbar(\"LV\", \"Tracking\", 0, 255, nothing)\n",
    "cv2.createTrackbar(\"UY\", \"Tracking\", 255, 255, nothing)\n",
    "cv2.createTrackbar(\"UU\", \"Tracking\", 255, 255, nothing)\n",
    "cv2.createTrackbar(\"UV\", \"Tracking\", 255, 255, nothing)\n",
    "\n",
    "detector = cv2.createBackgroundSubtractorKNN()\n",
    "\n",
    "while True:\n",
    "\tframe = cv2.imread(\"Calibration_Image.png\")\n",
    "    \n",
    "\thsv = cv2.cvtColor(frame, cv2.COLOR_BGR2YUV)\n",
    " \n",
    "\tlower_h = cv2.getTrackbarPos(\"LY\", \"Tracking\")\n",
    "\tlower_s = cv2.getTrackbarPos(\"LU\", \"Tracking\")\n",
    "\tlower_v = cv2.getTrackbarPos(\"LV\", \"Tracking\")\n",
    "  \n",
    "\tupper_h = cv2.getTrackbarPos(\"UY\", \"Tracking\")\n",
    "\tupper_s = cv2.getTrackbarPos(\"UU\", \"Tracking\")\n",
    "\tupper_v = cv2.getTrackbarPos(\"UV\", \"Tracking\")\n",
    "\n",
    "\tlower_ball = np.array([lower_h, lower_s, lower_v])\n",
    "\tupper_ball = np.array([upper_h, upper_s, upper_v])\n",
    "\n",
    "\tmask = cv2.inRange(hsv, lower_ball, upper_ball)\n",
    "\tres = cv2.bitwise_and(frame, frame, mask=mask)\n",
    "\t\n",
    "\tcv2.imshow(\"frame\", frame)\t\n",
    "\tcv2.imshow(\"mask\", mask)\n",
    "\tcv2.imshow(\"res\", res)\n",
    " \n",
    "\tkey = cv2.waitKey(5) & 0xFF\n",
    "\tif key == ord('q'):\n",
    "\t\tbreak\n",
    "\n",
    "cv2.destroyAllWindows()"
   ]
  },
  {
   "cell_type": "code",
   "execution_count": null,
   "id": "7e9c44a2-c437-495b-b4a3-2039ea67c156",
   "metadata": {},
   "outputs": [],
   "source": []
  }
 ],
 "metadata": {
  "kernelspec": {
   "display_name": "Python 3 (ipykernel)",
   "language": "python",
   "name": "python3"
  },
  "language_info": {
   "codemirror_mode": {
    "name": "ipython",
    "version": 3
   },
   "file_extension": ".py",
   "mimetype": "text/x-python",
   "name": "python",
   "nbconvert_exporter": "python",
   "pygments_lexer": "ipython3",
   "version": "3.8.10"
  }
 },
 "nbformat": 4,
 "nbformat_minor": 5
}
