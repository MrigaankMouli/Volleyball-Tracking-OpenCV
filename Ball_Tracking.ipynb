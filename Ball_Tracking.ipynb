{
 "cells": [
  {
   "cell_type": "code",
   "execution_count": null,
   "id": "b43d793b-3c2a-404e-b395-b76f5a94b35c",
   "metadata": {},
   "outputs": [],
   "source": [
    "import cv2\n",
    "import numpy as np"
   ]
  },
  {
   "cell_type": "code",
   "execution_count": null,
   "id": "dc3f40bc-80ca-4097-b427-9c0b2c167cee",
   "metadata": {},
   "outputs": [],
   "source": [
    "cap = cv2.VideoCapture('volleyball_match.mp4')\n",
    "fgbg = cv2.createBackgroundSubtractorKNN(detectShadows=False)\n",
    "kernel = cv2.getStructuringElement(cv2.MORPH_ELLIPSE,(3,3))\n",
    "while True:\n",
    "    \n",
    "    ret,frame = cap.read()\n",
    "    if not ret:\n",
    "        break\n",
    "    image_rgb = cv2.cvtColor(frame,cv2.COLOR_BGR2RGB)\n",
    "    lower_yellow = np.array([75, 133, 0], dtype=np.uint8)\n",
    "    upper_yellow = np.array([255, 255, 129], dtype=np.uint8)\n",
    "    yellow_mask = cv2.inRange(image_rgb, lower_yellow, upper_yellow)\n",
    "\n",
    "    image_yuv = cv2.cvtColor(frame,cv2.COLOR_BGR2YUV)\n",
    "    yuv_lower = np.array([51, 65, 139])\n",
    "    yuv_upper = np.array([227, 102, 182])\n",
    "    yuv_mask = cv2.inRange(image_yuv, yuv_lower, yuv_upper)\n",
    "    result = cv2.bitwise_or(yellow_mask,yuv_mask)\n",
    "\n",
    "    fgmask = fgbg.apply(frame)\n",
    "    fgmask = cv2.morphologyEx(fgmask,cv2.MORPH_OPEN,kernel)\n",
    "    combine =  cv2.bitwise_and(result,fgmask)\n",
    "    combine = cv2.morphologyEx(combine, cv2.MORPH_OPEN, kernel)\n",
    "\n",
    "    combine = cv2.cvtColor(result,cv2.COLOR_BAYER_BG2GRAY)\n",
    "\n",
    "    contours, _ = cv2.findContours(result, cv2.RETR_EXTERNAL, cv2.CHAIN_APPROX_SIMPLE)\n",
    "\n",
    "    for contour in contours:\n",
    "        approx = cv2.approxPolyDP(contour, 0.01* cv2.arcLength(contour, True), True)\n",
    "        if len(approx)>12:\n",
    "            ((x, y), radius) = cv2.minEnclosingCircle(approx)\n",
    "\n",
    "            if radius < 10 and radius > 1 and y<210:\n",
    "                cv2.circle(frame, (int(x), int(y)), 10, (255, 0, 0), 2)\n",
    "                cv2.putText(frame, 'ball', (int(x-radius),int(y-radius)), cv2.FONT_HERSHEY_SIMPLEX, 0.6,(255,0,0),2)\n",
    "            \n",
    "            \n",
    "               \n",
    "    cv2.imshow('Foreground',fgmask)\n",
    "    cv2.imshow('combine',combine)\n",
    "    cv2.imshow('Track',frame)\n",
    "    cv2.imshow('Mask',result)\n",
    "    \n",
    "    key = cv2.waitKey(10) & 0xFF\n",
    "\n",
    "    if key == ord(\"q\"):\n",
    "        break\n",
    "\n",
    "cap.release()\n",
    "cv2.destroyAllWindows()\n",
    "    \n",
    "\n",
    "    \n",
    "\n",
    "\n"
   ]
  },
  {
   "cell_type": "code",
   "execution_count": null,
   "id": "e55a9a5f-a14a-4697-b848-8703f4653adb",
   "metadata": {},
   "outputs": [],
   "source": []
  }
 ],
 "metadata": {
  "kernelspec": {
   "display_name": "Python 3 (ipykernel)",
   "language": "python",
   "name": "python3"
  },
  "language_info": {
   "codemirror_mode": {
    "name": "ipython",
    "version": 3
   },
   "file_extension": ".py",
   "mimetype": "text/x-python",
   "name": "python",
   "nbconvert_exporter": "python",
   "pygments_lexer": "ipython3",
   "version": "3.8.10"
  }
 },
 "nbformat": 4,
 "nbformat_minor": 5
}
