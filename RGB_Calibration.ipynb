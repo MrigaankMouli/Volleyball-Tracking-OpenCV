{
 "cells": [
  {
   "cell_type": "code",
   "execution_count": null,
   "id": "a7d6ad9e-f1be-4493-9327-82a369f3020d",
   "metadata": {},
   "outputs": [
    {
     "ename": "",
     "evalue": "",
     "output_type": "error",
     "traceback": [
      "\u001b[1;31mFailed to start the Kernel. \n",
      "\u001b[1;31mUnable to start Kernel 'Python 3.8.10' due to a connection timeout. \n",
      "\u001b[1;31mView Jupyter <a href='command:jupyter.viewOutput'>log</a> for further details."
     ]
    }
   ],
   "source": [
    "import cv2 as cv2\n",
    "import numpy as np\n",
    "\n",
    "#cap = cv2.VideoCapture(\"volleyball_match.mp4\")\n",
    "\n",
    "\n",
    "def nothing():\t\n",
    "\tpass\n",
    "\n",
    "cv2.namedWindow(\"Tracking\")\n",
    "cv2.createTrackbar(\"LR\", \"Tracking\", 0, 255, nothing)\n",
    "cv2.createTrackbar(\"LG\", \"Tracking\", 0, 255, nothing)\n",
    "cv2.createTrackbar(\"LB\", \"Tracking\", 0, 255, nothing)\n",
    "cv2.createTrackbar(\"UR\", \"Tracking\", 255, 255, nothing)\n",
    "cv2.createTrackbar(\"UG\", \"Tracking\", 255, 255, nothing)\n",
    "cv2.createTrackbar(\"UB\", \"Tracking\", 255, 255, nothing)\n",
    "\n",
    "detector = cv2.createBackgroundSubtractorKNN()\n",
    "\n",
    "while True:\n",
    "\tframe = cv2.imread(\"Calibration_Image.png\")\n",
    " \n",
    "\tRGB = cv2.cvtColor(frame, cv2.COLOR_BGR2RGB)\n",
    " \n",
    "\tlower_R = cv2.getTrackbarPos(\"LR\", \"Tracking\")\n",
    "\tlower_G = cv2.getTrackbarPos(\"LG\", \"Tracking\")\n",
    "\tlower_B = cv2.getTrackbarPos(\"LB\", \"Tracking\")\n",
    "  \n",
    "\tupper_R = cv2.getTrackbarPos(\"UR\", \"Tracking\")\n",
    "\tupper_G = cv2.getTrackbarPos(\"UG\", \"Tracking\")\n",
    "\tupper_B = cv2.getTrackbarPos(\"UB\", \"Tracking\")\n",
    "\n",
    "\tlower = np.array([lower_R, lower_G, lower_B])\n",
    "\tupper = np.array([upper_R, upper_G, upper_B])\n",
    "\n",
    "\tmask = cv2.inRange(RGB, lower, upper)\n",
    "\tresult = cv2.bitwise_and(frame, frame, mask=mask)\n",
    "\t\n",
    "\tcv2.imshow(\"frame\", frame)\t\n",
    "\tcv2.imshow(\"res\", result)\n",
    " \n",
    "\tkey = cv2.waitKey(5) & 0xFF\n",
    "\tif key == ord('q'):\n",
    "\t\tbreak\n",
    "\n",
    "cv2.destroyAllWindows()"
   ]
  },
  {
   "cell_type": "code",
   "execution_count": null,
   "id": "d7c58281-f61b-4987-a34f-7dd077190001",
   "metadata": {},
   "outputs": [
    {
     "ename": "",
     "evalue": "",
     "output_type": "error",
     "traceback": [
      "\u001b[1;31mFailed to start the Kernel. \n",
      "\u001b[1;31mUnable to start Kernel 'Python 3.8.10' due to a connection timeout. \n",
      "\u001b[1;31mView Jupyter <a href='command:jupyter.viewOutput'>log</a> for further details."
     ]
    }
   ],
   "source": []
  },
  {
   "cell_type": "code",
   "execution_count": null,
   "id": "a212ce02-5304-4911-ae8a-6fae5927b6f9",
   "metadata": {},
   "outputs": [
    {
     "ename": "",
     "evalue": "",
     "output_type": "error",
     "traceback": [
      "\u001b[1;31mFailed to start the Kernel. \n",
      "\u001b[1;31mUnable to start Kernel 'Python 3.8.10' due to a connection timeout. \n",
      "\u001b[1;31mView Jupyter <a href='command:jupyter.viewOutput'>log</a> for further details."
     ]
    }
   ],
   "source": []
  }
 ],
 "metadata": {
  "kernelspec": {
   "display_name": "Python 3 (ipykernel)",
   "language": "python",
   "name": "python3"
  },
  "language_info": {
   "codemirror_mode": {
    "name": "ipython",
    "version": 3
   },
   "file_extension": ".py",
   "mimetype": "text/x-python",
   "name": "python",
   "nbconvert_exporter": "python",
   "pygments_lexer": "ipython3",
   "version": "3.8.10"
  }
 },
 "nbformat": 4,
 "nbformat_minor": 5
}
