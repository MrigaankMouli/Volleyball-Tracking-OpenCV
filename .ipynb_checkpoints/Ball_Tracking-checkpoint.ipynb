{
 "cells": [
  {
   "cell_type": "code",
   "execution_count": 1,
   "id": "b43d793b-3c2a-404e-b395-b76f5a94b35c",
   "metadata": {},
   "outputs": [],
   "source": [
    "import cv2\n",
    "import numpy as np"
   ]
  },
  {
   "cell_type": "code",
   "execution_count": 45,
   "id": "dc3f40bc-80ca-4097-b427-9c0b2c167cee",
   "metadata": {},
   "outputs": [],
   "source": [
    "cap = cv2.VideoCapture('volleyball_match.mp4')\n",
    "fgbg = cv2.createBackgroundSubtractorKNN(detectShadows=False)\n",
    "kernel = cv2.getStructuringElement(cv2.MORPH_ELLIPSE,(3,3))\n",
    "while True:\n",
    "\n",
    "    ret,frame = cap.read()\n",
    "    image_rgb = cv2.cvtColor(frame, cv2.COLOR_BGR2RGB)\n",
    "    lower_yellow = np.array([100, 100, 0], dtype=np.uint8)\n",
    "    upper_yellow = np.array([255, 255, 100], dtype=np.uint8)\n",
    "    yellow_mask = cv2.inRange(image_rgb, lower_yellow, upper_yellow)\n",
    "    image_rgb = cv2.cvtColor(frame, cv2.COLOR_RGB2GRAY)\n",
    "    result = cv2.bitwise_and(image_rgb,image_rgb,mask=yellow_mask)\n",
    "\n",
    "    fgmask = fgbg.apply(frame)\n",
    "    fgmask = cv2.morphologyEx(fgmask,cv2.MORPH_OPEN,kernel)\n",
    "    combine =  cv2.bitwise_and(result,fgmask)\n",
    "\n",
    "\n",
    "    combine = cv2.cvtColor(combine,cv2.COLOR_BAYER_BG2GRAY)\n",
    "    thresh = cv2.adaptiveThreshold(combine,255,cv2.ADAPTIVE_THRESH_MEAN_C,cv2.THRESH_BINARY_INV,11,2)\n",
    "\n",
    "    contours,_ = cv2.findContours(thresh,cv2.RETR_EXTERNAL,cv2.CHAIN_APPROX_NONE)\n",
    "\n",
    "    for contour in contours:\n",
    "        approx = cv2.approxPolyDP(contour,0.01*cv2.arcLength(contour,True),True)\n",
    "\n",
    "        if len(approx)>10:\n",
    "            x,y,w,h = cv2.boundingRect(approx)\n",
    "            \n",
    "            area = w*h\n",
    "            min = 200\n",
    "            max =1000\n",
    "            if (area>min and area<max and y<200):\n",
    "                cv2.drawContours(frame,[approx],0,(0,255,0),5)\n",
    "               \n",
    "    cv2.imshow('Foreground',fgmask)\n",
    "    cv2.imshow('combine',combine)\n",
    "    cv2.imshow('Track',frame)\n",
    "    key = cv2.waitKey(1) & 0xFF\n",
    "\n",
    "    if key == ord(\"q\"):\n",
    "        break\n",
    "\n",
    "cap.release()\n",
    "cv2.destroyAllWindows()\n",
    "    \n",
    "\n",
    "    \n",
    "\n",
    "\n"
   ]
  },
  {
   "cell_type": "code",
   "execution_count": null,
   "id": "7173c172-8467-4451-b7dd-1ed0f024c140",
   "metadata": {},
   "outputs": [],
   "source": []
  }
 ],
 "metadata": {
  "kernelspec": {
   "display_name": "Python 3 (ipykernel)",
   "language": "python",
   "name": "python3"
  },
  "language_info": {
   "codemirror_mode": {
    "name": "ipython",
    "version": 3
   },
   "file_extension": ".py",
   "mimetype": "text/x-python",
   "name": "python",
   "nbconvert_exporter": "python",
   "pygments_lexer": "ipython3",
   "version": "3.8.10"
  }
 },
 "nbformat": 4,
 "nbformat_minor": 5
}
